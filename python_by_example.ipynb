{
 "cells": [
  {
   "cell_type": "markdown",
   "metadata": {},
   "source": [
    "# Selected Challenges from \"Python by Example\" - Nichola Lacey"
   ]
  },
  {
   "cell_type": "markdown",
   "metadata": {},
   "source": [
    "# The basics"
   ]
  },
  {
   "cell_type": "code",
   "execution_count": 3,
   "metadata": {},
   "outputs": [
    {
     "name": "stdout",
     "output_type": "stream",
     "text": [
      "Enter first name: Mayan\n",
      "Enter surname: Patel\n",
      "Hello Mayan Patel\n"
     ]
    }
   ],
   "source": [
    "#Ask for the users first name and display the output message\n",
    "first_name = input('Enter first name: ')\n",
    "surname = input('Enter surname: ')\n",
    "print(f\"Hello {first_name} {surname}\")"
   ]
  },
  {
   "cell_type": "code",
   "execution_count": 4,
   "metadata": {},
   "outputs": [
    {
     "name": "stdout",
     "output_type": "stream",
     "text": [
      "What do you call a bear with no teeth?\n",
      "A gummy bear!\n"
     ]
    }
   ],
   "source": [
    "#display joke and answer on new line\n",
    "print('What do you call a bear with no teeth?\\nA gummy bear!')"
   ]
  },
  {
   "cell_type": "code",
   "execution_count": 9,
   "metadata": {},
   "outputs": [
    {
     "name": "stdout",
     "output_type": "stream",
     "text": [
      "Enter a number: 1\n",
      "Enter another number: 2\n",
      "Enter another number: 3\n",
      "the total is: 9\n"
     ]
    }
   ],
   "source": [
    "#ask user for three numbers. add the first two and multiply by the third. \n",
    "first_number = eval(input('Enter a number: '))\n",
    "second_number = eval(input('Enter another number: '))\n",
    "third_number = eval(input('Enter another number: '))\n",
    "total = (first_number + second_number) * third_number\n",
    "print(f\"the total is: {total}\")"
   ]
  },
  {
   "cell_type": "code",
   "execution_count": 16,
   "metadata": {},
   "outputs": [
    {
     "name": "stdout",
     "output_type": "stream",
     "text": [
      "Enter a number of days: 10\n",
      "in 10 days there are\n",
      "240 hours\n",
      "14400 minutes\n",
      "864000 seconds\n"
     ]
    }
   ],
   "source": [
    "#Ask for a number of days and show how many hours, minutes and seconds are in that number of days\n",
    "num_of_days = eval(input('Enter a number of days: '))\n",
    "\n",
    "hours = num_of_days * 24\n",
    "minutes = hours * 60\n",
    "seconds = minutes * 60\n",
    "\n",
    "print(f\"in {num_of_days} days there are\\n{hours} hours\\n{minutes} minutes\\n{seconds} seconds\")"
   ]
  },
  {
   "cell_type": "code",
   "execution_count": 25,
   "metadata": {},
   "outputs": [
    {
     "name": "stdout",
     "output_type": "stream",
     "text": [
      "How many kilograms do you want to convert10\n",
      "22.0462\n"
     ]
    }
   ],
   "source": [
    "#Ask user to enter a weigt in kilograms and convert it to pounds\n",
    "kilograms = eval(input('How many kilograms do you want to convert'))\n",
    "\n",
    "def weight_converter(kilograms):\n",
    "    pounds = kilograms * 2.20462\n",
    "    return pounds\n",
    "\n",
    "print(weight_converter(kilograms))"
   ]
  },
  {
   "cell_type": "code",
   "execution_count": 42,
   "metadata": {},
   "outputs": [
    {
     "name": "stdout",
     "output_type": "stream",
     "text": [
      "enter a number over 100:100\n",
      "over 100 please!\n",
      "enter a number over 100:101\n",
      "enter a number under 10:4\n",
      "4 goes into 101, 25 times\n"
     ]
    }
   ],
   "source": [
    "#enter a number over 100, and under 100, tell user how many times smaller number goes into larger number rounded to a whole\n",
    "\n",
    "while True:\n",
    "    num_over_100 = eval(input('enter a number over 100:' ))\n",
    "\n",
    "    if num_over_100 <= 100:\n",
    "        print('over 100 please!')\n",
    "    else:\n",
    "        break\n",
    "        \n",
    "while True:\n",
    "    num_under_10 = eval(input('enter a number under 10:' ))\n",
    "\n",
    "    if num_under_10 >= 10:\n",
    "        print('under 10 please!')\n",
    "    else:\n",
    "        break\n",
    "answer = round(num_over_100 / num_under_10)        \n",
    "print(f\"{num_under_10} goes into {num_over_100}, {answer} times\")"
   ]
  },
  {
   "cell_type": "markdown",
   "metadata": {},
   "source": [
    "# If statements"
   ]
  },
  {
   "cell_type": "code",
   "execution_count": 49,
   "metadata": {},
   "outputs": [
    {
     "name": "stdout",
     "output_type": "stream",
     "text": [
      "enter a number between 10 and 20 inclusive25\n",
      "incorrect answer\n"
     ]
    }
   ],
   "source": [
    "#Ask user to enter a number within a range, display thank you if within range or incorect answer if not.\n",
    "num_range = int(input(\"enter a number between 10 and 20 inclusive\"))\n",
    "\n",
    "if num_range < 10 or num_range > 20:\n",
    "    print(\"incorrect answer\")\n",
    "else:\n",
    "    print(\"Thank you\")"
   ]
  },
  {
   "cell_type": "code",
   "execution_count": 59,
   "metadata": {},
   "outputs": [
    {
     "name": "stdout",
     "output_type": "stream",
     "text": [
      "Enter your favourite colourblue\n",
      "I don't like blue, I prefer red\n"
     ]
    }
   ],
   "source": [
    "#Ask user to enter favourite colour, if they enter RED, or Red display the message \"i like red too\" otherwise display \"I don't like {colour} I prefer red\"\n",
    "ask_colour = input(\"Enter your favourite colour\").lower()\n",
    "if ask_colour == \"red\":\n",
    "    print('I like red too')\n",
    "else: \n",
    "    print(f\"I don't like {ask_colour}, I prefer red\")"
   ]
  },
  {
   "cell_type": "code",
   "execution_count": 72,
   "metadata": {},
   "outputs": [
    {
     "name": "stdout",
     "output_type": "stream",
     "text": [
      "Is it raining? Yes or no: YES\n",
      "Is it too windy for an umbrella? Yes or no: NO\n",
      "Take an umbrella\n"
     ]
    }
   ],
   "source": [
    "#Ask the user if it is raining and convert their answer to lower case so it doesn’t matter what case they type it in. If they answer “yes”, ask if it is windy. If they answer “yes” to this second question, display the answer “It is too windy for an umbrella”, otherwise display the message “Take an umbrella”. If they did not answer yes to the first question, display the answer “Enjoy your day”.\n",
    "rain = input(\"Is it raining? Yes or no: \").lower()\n",
    "\n",
    "if rain == \"yes\":\n",
    "    windy = input(\"Is it too windy for an umbrella? Yes or no: \").lower()\n",
    "    if windy == \"yes\":\n",
    "         print(\"It is too windy for an umbrella\")\n",
    "    else:\n",
    "          print('Take an umbrella')\n",
    "else:\n",
    "    print('Enjoy your day')"
   ]
  },
  {
   "cell_type": "code",
   "execution_count": 71,
   "metadata": {},
   "outputs": [
    {
     "name": "stdout",
     "output_type": "stream",
     "text": [
      "Enter a number11\n",
      "correct\n"
     ]
    }
   ],
   "source": [
    "#Ask the user to enter a number. If it is under 10, display the message “Too low”, if their number is between 10 and 20, display “Correct”, otherwise display “Too high”.\n",
    "\n",
    "num = int(input('Enter a number'))\n",
    "\n",
    "if num > 10 and num < 20:\n",
    "    print(\"correct\")\n",
    "elif num < 10:\n",
    "    print(\"too low\")\n",
    "else:\n",
    "    print('too high')\n",
    "    "
   ]
  },
  {
   "cell_type": "markdown",
   "metadata": {},
   "source": [
    "# Strings"
   ]
  },
  {
   "cell_type": "code",
   "execution_count": 85,
   "metadata": {},
   "outputs": [
    {
     "name": "stdout",
     "output_type": "stream",
     "text": [
      "Enter your firstname: mayan\n",
      "Enter your surname: patel\n",
      "Mayan Patel your name has 10 characters\n"
     ]
    }
   ],
   "source": [
    "#concatenating strings, len() and .title()\n",
    "first_name = input('Enter your firstname: ')\n",
    "surname = input('Enter your surname: ')\n",
    "full_name = first_name + \" \" + surname\n",
    "full_name = full_name.title()\n",
    "name_length = len(first_name) + len(surname)\n",
    "\n",
    "\n",
    "print(f\"{full_name} your name has {name_length} characters\")"
   ]
  },
  {
   "cell_type": "code",
   "execution_count": 99,
   "metadata": {},
   "outputs": [
    {
     "name": "stdout",
     "output_type": "stream",
     "text": [
      "Enter the first line of a nursery rhyme: jack and jill jumped\n",
      "We are going to slice your rhyme into pieces\n",
      "start number: 0\n",
      "end number between 0 and 20: 15\n",
      "jack and jill j\n"
     ]
    }
   ],
   "source": [
    "#Ask the user to type in the first line of a nursery rhyme and display the length of the string. Ask for a starting number and an ending number and then display just that section of the text (remember Python starts counting from 0 and not 1).\n",
    "\n",
    "rhyme = input('Enter the first line of a nursery rhyme: ')\n",
    "print('We are going to slice your rhyme into pieces')\n",
    "rhyme_length = len(rhyme)\n",
    "start = int(input('start number: ' ))\n",
    "end = int(input(f'end number between 0 and {rhyme_length}: '))\n",
    "\n",
    "if start < 0 or end > rhyme_length:\n",
    "    print('please try again with valid start/end number')\n",
    "else:\n",
    "    section = rhyme[start:end]\n",
    "    print(section)"
   ]
  },
  {
   "cell_type": "code",
   "execution_count": 136,
   "metadata": {},
   "outputs": [
    {
     "name": "stdout",
     "output_type": "stream",
     "text": [
      "Enter a word to convert to pig latin: mayan\n",
      "ayanmay\n"
     ]
    }
   ],
   "source": [
    "#Pig Latin takes the first consonant of a word, moves it to the end of the word and adds on an “ay”. If a word begins with a vowel you just add “way” to the end. For example, pig becomes igpay, banana becomes ananabay, and aadvark becomes aadvarkway. Create a program that will ask the user to enter a word and change it into Pig Latin. Make sure the new word is displayed in lower case.\n",
    "\n",
    "import string\n",
    "alphabet = string.ascii_lowercase #lowercase alphabet\n",
    "vowels = 'aeiou'\n",
    "consonants = [x for x in alphabet if x not in vowels]\n",
    "\n",
    "translate = input('Enter a word to convert to pig latin: ')\n",
    "\n",
    "if translate[0] in vowels:\n",
    "    print(translate + \"way\")\n",
    "else:\n",
    "    print(translate[1:] + translate[0] + \"ay\")\n",
    "       \n",
    "\n",
    "   "
   ]
  },
  {
   "cell_type": "markdown",
   "metadata": {},
   "source": [
    "# Maths"
   ]
  },
  {
   "cell_type": "code",
   "execution_count": 137,
   "metadata": {},
   "outputs": [],
   "source": [
    "import math"
   ]
  },
  {
   "cell_type": "code",
   "execution_count": 151,
   "metadata": {},
   "outputs": [
    {
     "name": "stdout",
     "output_type": "stream",
     "text": [
      "2 1 4 4 2.0 1 2\n",
      "input decimal number three decimal places: 5.66\n",
      "rounding number to one decimal place 5.7\n"
     ]
    },
    {
     "data": {
      "text/plain": [
       "3.141592653589793"
      ]
     },
     "execution_count": 151,
     "metadata": {},
     "output_type": "execute_result"
    }
   ],
   "source": [
    "#Quick review \n",
    "\n",
    "add = 1 + 1 \n",
    "subtract = 2 - 1 \n",
    "multiply = 2* 2\n",
    "square = 2**2\n",
    "root = math.sqrt(4)\n",
    "whole_division = 5 //3\n",
    "remainder = 5 % 3\n",
    "\n",
    "#2, 1, 4, 4, 2, 1, 2\n",
    "print(add, subtract, multiply, square, root, whole_division, remainder)\n",
    "\n",
    "num = eval(input('input decimal number three decimal places: '))\n",
    "rounding = round(num,1)\n",
    "print(f'rounding number to one decimal place {rounding}')\n",
    "\n",
    "#pi to 15 decimal places\n",
    "math.pi"
   ]
  },
  {
   "cell_type": "code",
   "execution_count": 152,
   "metadata": {},
   "outputs": [
    {
     "data": {
      "text/plain": [
       "3.14159"
      ]
     },
     "execution_count": 152,
     "metadata": {},
     "output_type": "execute_result"
    }
   ],
   "source": [
    "#display pi to 5 decimal places\n",
    "round(math.pi, 5)"
   ]
  },
  {
   "cell_type": "code",
   "execution_count": 153,
   "metadata": {},
   "outputs": [
    {
     "name": "stdout",
     "output_type": "stream",
     "text": [
      "Enter number over 500500\n"
     ]
    },
    {
     "data": {
      "text/plain": [
       "22.36"
      ]
     },
     "execution_count": 153,
     "metadata": {},
     "output_type": "execute_result"
    }
   ],
   "source": [
    "#Ask the user to enter an integer that is over 500. Work out the square root of that number and display it to two decimal places.\n",
    "over_500 = eval(input('Enter number over 500: '))\n",
    "\n",
    "#square root and round to 2 decimal places\n",
    "round(math.sqrt(over_500), 2)"
   ]
  },
  {
   "cell_type": "code",
   "execution_count": 161,
   "metadata": {},
   "outputs": [
    {
     "name": "stdout",
     "output_type": "stream",
     "text": [
      "Enter radius of circle10\n",
      "The area of the circle is 314.1592653589793\n"
     ]
    }
   ],
   "source": [
    "#Ask the user to enter the radius of a circle (measurement from the centre point to the edge). Work out the area of the circle (π*radius2).\n",
    "radius = int(input(\"Enter radius of circle\"))\n",
    "area= math.pi * (radius**2)\n",
    "print(f\"The area of the circle is {area}\")"
   ]
  },
  {
   "cell_type": "code",
   "execution_count": 166,
   "metadata": {},
   "outputs": [
    {
     "name": "stdout",
     "output_type": "stream",
     "text": [
      "Enter first number30\n",
      "Enter second number300\n",
      "30 divided by 300 is 0 with 30 remaining\n"
     ]
    }
   ],
   "source": [
    "# Ask the user to enter two numbers. Use whole number division to divide the first number by the second and also work out the remainder and display the answer in a user-friendly way (e.g. if they enter 7 and 2 display “7 divided by 2 is 3 with 1 remaining”).\n",
    "a = int(input(\"Enter first number\"))\n",
    "b = int(input(\"Enter second number\"))\n",
    "divided = a // b\n",
    "remainder = a % b\n",
    "print(f'{a} divided by {b} is {divided} with {remainder} remaining')"
   ]
  },
  {
   "cell_type": "code",
   "execution_count": 175,
   "metadata": {},
   "outputs": [
    {
     "name": "stdout",
     "output_type": "stream",
     "text": [
      "Choose an option \n",
      " 1) Square \n",
      " 2) Triangle\n",
      "Enter an option: 2\n",
      "What is the length of the base?: 10\n",
      "What is the height of the triangle?: 5\n",
      "The area of the triangle is 25.0\n"
     ]
    }
   ],
   "source": [
    "print(\"Choose an option \\n 1) Square \\n 2) Triangle\")\n",
    "choice = int(input('Enter an option: '))\n",
    "\n",
    "if choice == 1:\n",
    "    side_length = int(input(\"What is the length of a side?: \"))\n",
    "    area = side_length**2\n",
    "    print(f\"The area of the square is {area}\")\n",
    "elif choice == 2:\n",
    "    base = int(input(\"What is the length of the base?: \"))\n",
    "    height = int(input(\"What is the height of the triangle?: \"))\n",
    "    triangle_area = 0.5 * base * height\n",
    "    print(\"The area of the triangle is\", triangle_area)\n",
    "else:\n",
    "    print(\"Error: This choice is invalid\")\n"
   ]
  },
  {
   "cell_type": "markdown",
   "metadata": {},
   "source": [
    "For Loops"
   ]
  },
  {
   "cell_type": "code",
   "execution_count": 179,
   "metadata": {},
   "outputs": [
    {
     "name": "stdout",
     "output_type": "stream",
     "text": [
      "What is your name?: Mayan\n",
      "How many times should i repeat it?: 3\n",
      "Mayan\n",
      "Mayan\n",
      "Mayan\n"
     ]
    }
   ],
   "source": [
    "#Alter program 035 so that it will ask the user to enter their name and a number and then display their name that number of times.\n",
    "name = input('What is your name?: ')\n",
    "repeat = int(input('How many times should i repeat it?: '))\n",
    "\n",
    "for i in range(repeat):\n",
    "    print(name)\n",
    "    "
   ]
  },
  {
   "cell_type": "code",
   "execution_count": 181,
   "metadata": {},
   "outputs": [
    {
     "name": "stdout",
     "output_type": "stream",
     "text": [
      "What is your name?: Kalisha\n",
      "K\n",
      "a\n",
      "l\n",
      "i\n",
      "s\n",
      "h\n",
      "a\n"
     ]
    }
   ],
   "source": [
    "#Ask the user to enter their name and display each letter in their name on a separate line.\n",
    "name = input('What is your name?: ')\n",
    "for i in name:\n",
    "    print(i)"
   ]
  },
  {
   "cell_type": "code",
   "execution_count": 183,
   "metadata": {},
   "outputs": [
    {
     "name": "stdout",
     "output_type": "stream",
     "text": [
      "Enter a number between 1-12 6\n",
      "6\n",
      "12\n",
      "18\n",
      "24\n",
      "30\n",
      "36\n",
      "42\n",
      "48\n",
      "54\n",
      "60\n"
     ]
    }
   ],
   "source": [
    "#Ask the user to enter a number between 1 and 12 and then display the times table for that number.\n",
    "base_number = int(input('Enter a number between 1-12 '))\n",
    "\n",
    "for i in range(1,11):\n",
    "    print(base_number * i)"
   ]
  },
  {
   "cell_type": "code",
   "execution_count": 197,
   "metadata": {},
   "outputs": [
    {
     "name": "stdout",
     "output_type": "stream",
     "text": [
      "Enter a number below 50 30\n",
      "50\n",
      "49\n",
      "48\n",
      "47\n",
      "46\n",
      "45\n",
      "44\n",
      "43\n",
      "42\n",
      "41\n",
      "40\n",
      "39\n",
      "38\n",
      "37\n",
      "36\n",
      "35\n",
      "34\n",
      "33\n",
      "32\n",
      "31\n"
     ]
    }
   ],
   "source": [
    "#Ask for a number below 50 and then count down from 50 to that number, making sure you show the number they entered in the output.\n",
    "below_50 = int(input('Enter a number below 50 '))\n",
    "\n",
    "for i in range(50 , 0, -1):\n",
    "\n",
    "    if i > below_50: \n",
    "        print(i)"
   ]
  },
  {
   "cell_type": "code",
   "execution_count": 215,
   "metadata": {},
   "outputs": [
    {
     "name": "stdout",
     "output_type": "stream",
     "text": [
      "Enter number 1: 20\n",
      "Include in total?: yes\n",
      "Enter number 2: 30\n",
      "Include in total?: yes\n",
      "Enter number 3: 199\n",
      "Include in total?: yes\n",
      "Enter number 4: 29\n",
      "Include in total?: yes\n",
      "Enter number 5: 9\n",
      "Include in total?: no\n"
     ]
    },
    {
     "data": {
      "text/plain": [
       "278"
      ]
     },
     "execution_count": 215,
     "metadata": {},
     "output_type": "execute_result"
    }
   ],
   "source": [
    "#Set a variable called total to 0. Ask the user to enter five numbers and after each input ask them if they want that number included. If they do, then add the number to the total. If they do not want it included, don’t add it to the total. After they have entered all five numbers, display the total.\n",
    "\n",
    "total = 0\n",
    "\n",
    "for i in range(0,5):\n",
    "    num = int(input(f'Enter number {i+1}: '))\n",
    "    included = input('Include in total?: ').lower()\n",
    "    if included == \"yes\":\n",
    "        total += num\n",
    "    else:\n",
    "        pass\n",
    "print('total')\n"
   ]
  },
  {
   "cell_type": "code",
   "execution_count": 223,
   "metadata": {},
   "outputs": [
    {
     "name": "stdout",
     "output_type": "stream",
     "text": [
      "which direction to count: 'up' or 'down'?down\n",
      "Enter a number under 20 to count down from: 30\n",
      "30\n",
      "29\n",
      "28\n",
      "27\n",
      "26\n",
      "25\n",
      "24\n",
      "23\n",
      "22\n",
      "21\n",
      "20\n",
      "19\n",
      "18\n",
      "17\n",
      "16\n",
      "15\n",
      "14\n",
      "13\n",
      "12\n",
      "11\n",
      "10\n",
      "9\n",
      "8\n",
      "7\n",
      "6\n",
      "5\n",
      "4\n",
      "3\n",
      "2\n",
      "1\n",
      "0\n"
     ]
    }
   ],
   "source": [
    "#Ask which direction the user wants to count (up or down). If they select up, then ask them for the top number and then count from 1 to that number. If they select down, ask them to enter a number below 20 and then count down from 20 to that number. If they entered something other than up or down, display the message “I don’t understand”.\n",
    "direction = input('which direction to count: \\'up\\' or \\'down\\'?')\n",
    "\n",
    "if direction == \"up\":\n",
    "    top_num = int(input('what number should I could to?'))\n",
    "    \n",
    "    for i in range(0,top_num + 1):\n",
    "        print(i)\n",
    "\n",
    "elif direction == \"down\":\n",
    "    under_20 = int(input('Enter a number under 20 to count down from: '))\n",
    "    for i in range(under_20,-1,-1):\n",
    "        print(i)\n",
    "    \n",
    "else: \n",
    "    print(\"I don't understand\")\n",
    "    "
   ]
  },
  {
   "cell_type": "markdown",
   "metadata": {},
   "source": [
    "# While Loops"
   ]
  },
  {
   "cell_type": "code",
   "execution_count": 226,
   "metadata": {},
   "outputs": [
    {
     "name": "stdout",
     "output_type": "stream",
     "text": [
      "input a number1\n",
      "the total is 1\n",
      "input a number1\n",
      "the total is 2\n",
      "input a number1\n",
      "the total is 3\n",
      "input a number1\n",
      "the total is 4\n",
      "input a number1\n",
      "the total is 5\n",
      "input a number2\n",
      "the total is 7\n",
      "input a number3\n",
      "the total is 10\n",
      "input a number4\n",
      "the total is 14\n",
      "input a number33\n",
      "the total is 47\n",
      "input a number2\n",
      "the total is 49\n",
      "input a number1\n",
      "the total is 50\n",
      "input a number1\n",
      "the total is 51\n"
     ]
    }
   ],
   "source": [
    "#Set the total to 0 to start with. While the total is 50 or less, ask the user to input a number. Add that number to the total and print the message “The total is... [total]”. Stop the loop when the total is over 50.\n",
    "total = 0 \n",
    "\n",
    "while total <= 50:\n",
    "    num = int(input(\"input a number\"))\n",
    "    total += num\n",
    "    print(f\"the total is {total}\")\n"
   ]
  },
  {
   "cell_type": "code",
   "execution_count": 4,
   "metadata": {},
   "outputs": [
    {
     "name": "stdout",
     "output_type": "stream",
     "text": [
      "enter a number4\n",
      "enter a number3\n",
      "enter a number2\n",
      "enter a number1\n",
      "enter a number3\n",
      "enter a number4\n",
      "enter a number5\n",
      "enter a number6\n",
      "the last number you entered was a 6\n"
     ]
    }
   ],
   "source": [
    "#Ask the user to enter a number. Keep asking until they enter a value over 5 and then display the message “The last number you entered was a [number]” and stop the program.\n",
    "num = 0\n",
    "while num <= 5:\n",
    "    num = int(input('enter a number'))\n",
    "print(f\"the last number you entered was a {num}\")"
   ]
  },
  {
   "cell_type": "code",
   "execution_count": 24,
   "metadata": {},
   "outputs": [
    {
     "name": "stdout",
     "output_type": "stream",
     "text": [
      "Enter a first number: 10\n",
      "Enter a second number: 20\n",
      "Do you want to add another? y/nn\n",
      "the total is 30\n"
     ]
    }
   ],
   "source": [
    "#Ask the user to enter a number and then enter another number. Add these two numbers together and then ask if they want to add another number. If they enter “y\", ask them to enter another number and keep adding numbers until they do not answer “y”. Once the loop has stopped, display the total.\n",
    "\n",
    "num_1 = int(input('Enter a first number: '))\n",
    "num_2 = int(input('Enter a second number: '))\n",
    "total = num_1 + num_2\n",
    "\n",
    "continue_asking = input('Do you want to add another? y/n')\n",
    "\n",
    "while continue_asking == \"yes\": \n",
    "    num_3 = int(input('Enter another number: ')) \n",
    "    total += num_3\n",
    "    continue_asking = input('Do you want to add another? y/n')\n",
    "    \n",
    "    \n",
    "print(f\"the total is {total}\")\n",
    "    "
   ]
  },
  {
   "cell_type": "code",
   "execution_count": 27,
   "metadata": {},
   "outputs": [
    {
     "name": "stdout",
     "output_type": "stream",
     "text": [
      "Enter a first number: 10\n",
      "Enter another number: 20\n",
      "Do you want to add another? y/ny\n",
      "Enter another number: 10\n",
      "Do you want to add another? y/nn\n",
      "the total is 40\n"
     ]
    }
   ],
   "source": [
    "#Another solution to the above that runs while loop for second number\n",
    "\n",
    "num_1 = int(input('Enter a first number: '))\n",
    "total = num_1 \n",
    "\n",
    "continue_asking = 'y'\n",
    "\n",
    "while continue_asking == \"y\": \n",
    "    num_3 = int(input('Enter another number: ')) \n",
    "    total += num_3\n",
    "    continue_asking = input('Do you want to add another? y/n')\n",
    "    \n",
    "    \n",
    "print(f\"the total is {total}\")\n",
    "    "
   ]
  },
  {
   "cell_type": "code",
   "execution_count": 47,
   "metadata": {},
   "outputs": [
    {
     "name": "stdout",
     "output_type": "stream",
     "text": [
      "Name of party attendee: Mayan\n",
      "Mayan has now been invited: \n",
      "Invite another person? y/n: n\n",
      "Total guests: 1\n"
     ]
    }
   ],
   "source": [
    "#Ask for the name of somebody the user wants to invite to a party. After this, display the message “[name] has now been invited” and add 1 to the count. Then ask if they want to invite somebody else. Keep repeating this until they no longer want to invite anyone else to the party and then display how many people they have coming to the party.\n",
    "total = 0\n",
    "\n",
    "def inviter():\n",
    "    name = input('Name of party attendee: ')\n",
    "    print(f'{name} has now been invited: ')\n",
    "    \n",
    "inviter()\n",
    "total += 1\n",
    "\n",
    "invite_more = input('Invite another person? y/n: ')\n",
    "\n",
    "while invite_more == \"y\":\n",
    "    inviter()\n",
    "    total += 1\n",
    "    invite_more = input('Invite another person? y/n: ')\n",
    "\n",
    "    \n",
    "print(\"Total guests:\", total)\n"
   ]
  },
  {
   "cell_type": "code",
   "execution_count": 49,
   "metadata": {},
   "outputs": [
    {
     "name": "stdout",
     "output_type": "stream",
     "text": [
      "name of party attendeeMayan\n",
      "Mayan has now been invited\n",
      "invite another person? y/ny\n",
      "name of party attendeeKalisha\n",
      "Kalisha has now been invited\n",
      "invite another person? y/nn\n",
      "total guests: 2\n",
      "['Mayan', 'Kalisha']\n"
     ]
    }
   ],
   "source": [
    "#Simplier solution to above with a register\n",
    "\n",
    "total = 0\n",
    "names = []\n",
    "invite_more = 'y'\n",
    "\n",
    "while invite_more == \"y\":\n",
    "    name = input('name of party attendee')\n",
    "    print(f'{name} has now been invited')\n",
    "    invite_more = input('invite another person? y/n')\n",
    "    total += 1\n",
    "    names.append(name)\n",
    "print(f\"total guests: {total}\")\n",
    "print(names)"
   ]
  },
  {
   "cell_type": "code",
   "execution_count": 54,
   "metadata": {},
   "outputs": [
    {
     "name": "stdout",
     "output_type": "stream",
     "text": [
      "Can you guess the number I am thinking of?: 100\n",
      "too high, guess again\n",
      "Can you guess the number I am thinking of?: 10\n",
      "too low, guess again\n",
      "Can you guess the number I am thinking of?: 50\n",
      "congratulations: it took you 3 attempts\n"
     ]
    }
   ],
   "source": [
    "#Create a variable called compnum and set the value to 50. Ask the user to enter a number. While their guess is not the same as the compnum value, tell them if their guess is too low or too high and ask them to have another guess. If they enter the same value as compnum, display the message “Well done, you took [count] attempts”.\n",
    "attempts = 0 \n",
    "compnum = 50\n",
    "guess = 0\n",
    "\n",
    "while guess != compnum:\n",
    "    guess = int(input('Can you guess the number I am thinking of?: '))\n",
    "    attempts +=1\n",
    "    if guess > compnum:\n",
    "        high_or_low = \"too high\"\n",
    "    elif guess < compnum:\n",
    "        high_or_low = \"too low\"    \n",
    "    else:\n",
    "        break\n",
    "    print(f'{high_or_low}, guess again')\n",
    "    \n",
    "print(f'congratulations: it took you {attempts} attempts')"
   ]
  },
  {
   "cell_type": "code",
   "execution_count": null,
   "metadata": {},
   "outputs": [],
   "source": []
  }
 ],
 "metadata": {
  "kernelspec": {
   "display_name": "Python 3",
   "language": "python",
   "name": "python3"
  },
  "language_info": {
   "codemirror_mode": {
    "name": "ipython",
    "version": 3
   },
   "file_extension": ".py",
   "mimetype": "text/x-python",
   "name": "python",
   "nbconvert_exporter": "python",
   "pygments_lexer": "ipython3",
   "version": "3.6.8"
  },
  "toc": {
   "base_numbering": 1,
   "nav_menu": {},
   "number_sections": true,
   "sideBar": true,
   "skip_h1_title": false,
   "title_cell": "Table of Contents",
   "title_sidebar": "Contents",
   "toc_cell": false,
   "toc_position": {},
   "toc_section_display": true,
   "toc_window_display": false
  }
 },
 "nbformat": 4,
 "nbformat_minor": 2
}
